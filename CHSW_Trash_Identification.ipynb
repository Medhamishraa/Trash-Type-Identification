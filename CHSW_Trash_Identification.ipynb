{
  "cells": [
    {
      "cell_type": "code",
      "source": [
        "!python -m pip install tensorflow==2.12.0 edgeimpulse"
      ],
      "metadata": {
        "collapsed": true,
        "id": "RKJ-f007K4dY",
        "outputId": "66b1557c-89dd-4f03-e3bc-fbf339794acd",
        "colab": {
          "base_uri": "https://localhost:8080/"
        }
      },
      "id": "RKJ-f007K4dY",
      "execution_count": null,
      "outputs": [
        {
          "output_type": "stream",
          "name": "stdout",
          "text": [
            "Collecting tensorflow==2.12.0\n",
            "  Downloading tensorflow-2.12.0-cp311-cp311-manylinux_2_17_x86_64.manylinux2014_x86_64.whl.metadata (3.4 kB)\n",
            "Collecting edgeimpulse\n",
            "  Downloading edgeimpulse-1.0.18-py3-none-any.whl.metadata (2.6 kB)\n",
            "Requirement already satisfied: absl-py>=1.0.0 in /usr/local/lib/python3.11/dist-packages (from tensorflow==2.12.0) (1.4.0)\n",
            "Requirement already satisfied: astunparse>=1.6.0 in /usr/local/lib/python3.11/dist-packages (from tensorflow==2.12.0) (1.6.3)\n",
            "Requirement already satisfied: flatbuffers>=2.0 in /usr/local/lib/python3.11/dist-packages (from tensorflow==2.12.0) (24.12.23)\n",
            "Collecting gast<=0.4.0,>=0.2.1 (from tensorflow==2.12.0)\n",
            "  Downloading gast-0.4.0-py3-none-any.whl.metadata (1.1 kB)\n",
            "Requirement already satisfied: google-pasta>=0.1.1 in /usr/local/lib/python3.11/dist-packages (from tensorflow==2.12.0) (0.2.0)\n",
            "Requirement already satisfied: grpcio<2.0,>=1.24.3 in /usr/local/lib/python3.11/dist-packages (from tensorflow==2.12.0) (1.69.0)\n",
            "Requirement already satisfied: h5py>=2.9.0 in /usr/local/lib/python3.11/dist-packages (from tensorflow==2.12.0) (3.12.1)\n",
            "Requirement already satisfied: jax>=0.3.15 in /usr/local/lib/python3.11/dist-packages (from tensorflow==2.12.0) (0.4.33)\n",
            "Collecting keras<2.13,>=2.12.0 (from tensorflow==2.12.0)\n",
            "  Downloading keras-2.12.0-py2.py3-none-any.whl.metadata (1.4 kB)\n",
            "Requirement already satisfied: libclang>=13.0.0 in /usr/local/lib/python3.11/dist-packages (from tensorflow==2.12.0) (18.1.1)\n",
            "Collecting numpy<1.24,>=1.22 (from tensorflow==2.12.0)\n",
            "  Downloading numpy-1.23.5-cp311-cp311-manylinux_2_17_x86_64.manylinux2014_x86_64.whl.metadata (2.3 kB)\n",
            "Requirement already satisfied: opt-einsum>=2.3.2 in /usr/local/lib/python3.11/dist-packages (from tensorflow==2.12.0) (3.4.0)\n",
            "Requirement already satisfied: packaging in /usr/local/lib/python3.11/dist-packages (from tensorflow==2.12.0) (24.2)\n",
            "Requirement already satisfied: protobuf!=4.21.0,!=4.21.1,!=4.21.2,!=4.21.3,!=4.21.4,!=4.21.5,<5.0.0dev,>=3.20.3 in /usr/local/lib/python3.11/dist-packages (from tensorflow==2.12.0) (4.25.5)\n",
            "Requirement already satisfied: setuptools in /usr/local/lib/python3.11/dist-packages (from tensorflow==2.12.0) (75.1.0)\n",
            "Requirement already satisfied: six>=1.12.0 in /usr/local/lib/python3.11/dist-packages (from tensorflow==2.12.0) (1.17.0)\n",
            "Collecting tensorboard<2.13,>=2.12 (from tensorflow==2.12.0)\n",
            "  Downloading tensorboard-2.12.3-py3-none-any.whl.metadata (1.8 kB)\n",
            "Collecting tensorflow-estimator<2.13,>=2.12.0 (from tensorflow==2.12.0)\n",
            "  Downloading tensorflow_estimator-2.12.0-py2.py3-none-any.whl.metadata (1.3 kB)\n",
            "Requirement already satisfied: termcolor>=1.1.0 in /usr/local/lib/python3.11/dist-packages (from tensorflow==2.12.0) (2.5.0)\n",
            "Requirement already satisfied: typing-extensions>=3.6.6 in /usr/local/lib/python3.11/dist-packages (from tensorflow==2.12.0) (4.12.2)\n",
            "Collecting wrapt<1.15,>=1.11.0 (from tensorflow==2.12.0)\n",
            "  Downloading wrapt-1.14.1-cp311-cp311-manylinux_2_5_x86_64.manylinux1_x86_64.manylinux_2_17_x86_64.manylinux2014_x86_64.whl.metadata (6.7 kB)\n",
            "Requirement already satisfied: tensorflow-io-gcs-filesystem>=0.23.1 in /usr/local/lib/python3.11/dist-packages (from tensorflow==2.12.0) (0.37.1)\n",
            "Collecting edgeimpulse-api<2.0.0,>=1.61.23 (from edgeimpulse)\n",
            "  Downloading edgeimpulse_api-1.66.17-py3-none-any.whl.metadata (1.5 kB)\n",
            "Collecting python-socketio<6.0.0,>=5.8.0 (from python-socketio[client]<6.0.0,>=5.8.0->edgeimpulse)\n",
            "  Downloading python_socketio-5.12.1-py3-none-any.whl.metadata (3.2 kB)\n",
            "Requirement already satisfied: requests<3.0.0,>=2.23.0 in /usr/local/lib/python3.11/dist-packages (from edgeimpulse) (2.32.3)\n",
            "Requirement already satisfied: wheel<1.0,>=0.23.0 in /usr/local/lib/python3.11/dist-packages (from astunparse>=1.6.0->tensorflow==2.12.0) (0.45.1)\n",
            "Collecting aenum<4.0.0,>=3.1.11 (from edgeimpulse-api<2.0.0,>=1.61.23->edgeimpulse)\n",
            "  Downloading aenum-3.1.15-py3-none-any.whl.metadata (3.7 kB)\n",
            "Collecting pydantic<2.0.0,>=1.10.2 (from edgeimpulse-api<2.0.0,>=1.61.23->edgeimpulse)\n",
            "  Downloading pydantic-1.10.21-cp311-cp311-manylinux_2_17_x86_64.manylinux2014_x86_64.whl.metadata (153 kB)\n",
            "\u001b[2K     \u001b[90m━━━━━━━━━━━━━━━━━━━━━━━━━━━━━━━━━━━━━━━━\u001b[0m \u001b[32m153.9/153.9 kB\u001b[0m \u001b[31m3.4 MB/s\u001b[0m eta \u001b[36m0:00:00\u001b[0m\n",
            "\u001b[?25hRequirement already satisfied: python_dateutil<3.0.0,>=2.5.3 in /usr/local/lib/python3.11/dist-packages (from edgeimpulse-api<2.0.0,>=1.61.23->edgeimpulse) (2.8.2)\n",
            "Collecting urllib3<2.0.0,>=1.25.3 (from edgeimpulse-api<2.0.0,>=1.61.23->edgeimpulse)\n",
            "  Downloading urllib3-1.26.20-py2.py3-none-any.whl.metadata (50 kB)\n",
            "\u001b[2K     \u001b[90m━━━━━━━━━━━━━━━━━━━━━━━━━━━━━━━━━━━━━━━━\u001b[0m \u001b[32m50.1/50.1 kB\u001b[0m \u001b[31m3.6 MB/s\u001b[0m eta \u001b[36m0:00:00\u001b[0m\n",
            "\u001b[?25hRequirement already satisfied: jaxlib<=0.4.33,>=0.4.33 in /usr/local/lib/python3.11/dist-packages (from jax>=0.3.15->tensorflow==2.12.0) (0.4.33)\n",
            "Requirement already satisfied: ml-dtypes>=0.2.0 in /usr/local/lib/python3.11/dist-packages (from jax>=0.3.15->tensorflow==2.12.0) (0.4.1)\n",
            "INFO: pip is looking at multiple versions of jax to determine which version is compatible with other requirements. This could take a while.\n",
            "Collecting jax>=0.3.15 (from tensorflow==2.12.0)\n",
            "  Downloading jax-0.5.0-py3-none-any.whl.metadata (22 kB)\n",
            "Collecting jaxlib<=0.5.0,>=0.5.0 (from jax>=0.3.15->tensorflow==2.12.0)\n",
            "  Downloading jaxlib-0.5.0-cp311-cp311-manylinux2014_x86_64.whl.metadata (978 bytes)\n",
            "Collecting jax>=0.3.15 (from tensorflow==2.12.0)\n",
            "  Downloading jax-0.4.38-py3-none-any.whl.metadata (22 kB)\n",
            "Collecting jaxlib<=0.4.38,>=0.4.38 (from jax>=0.3.15->tensorflow==2.12.0)\n",
            "  Downloading jaxlib-0.4.38-cp311-cp311-manylinux2014_x86_64.whl.metadata (1.0 kB)\n",
            "Collecting jax>=0.3.15 (from tensorflow==2.12.0)\n",
            "  Downloading jax-0.4.37-py3-none-any.whl.metadata (22 kB)\n",
            "Collecting jaxlib<=0.4.37,>=0.4.36 (from jax>=0.3.15->tensorflow==2.12.0)\n",
            "  Downloading jaxlib-0.4.36-cp311-cp311-manylinux2014_x86_64.whl.metadata (1.0 kB)\n",
            "Collecting jax>=0.3.15 (from tensorflow==2.12.0)\n",
            "  Downloading jax-0.4.36-py3-none-any.whl.metadata (22 kB)\n",
            "  Downloading jax-0.4.35-py3-none-any.whl.metadata (22 kB)\n",
            "Collecting jaxlib<=0.4.35,>=0.4.34 (from jax>=0.3.15->tensorflow==2.12.0)\n",
            "  Downloading jaxlib-0.4.35-cp311-cp311-manylinux2014_x86_64.whl.metadata (983 bytes)\n",
            "Collecting jax>=0.3.15 (from tensorflow==2.12.0)\n",
            "  Downloading jax-0.4.34-py3-none-any.whl.metadata (22 kB)\n",
            "Collecting jaxlib<=0.4.34,>=0.4.34 (from jax>=0.3.15->tensorflow==2.12.0)\n",
            "  Downloading jaxlib-0.4.34-cp311-cp311-manylinux2014_x86_64.whl.metadata (983 bytes)\n",
            "Collecting jax>=0.3.15 (from tensorflow==2.12.0)\n",
            "  Downloading jax-0.4.31-py3-none-any.whl.metadata (22 kB)\n",
            "Collecting jaxlib<=0.4.31,>=0.4.30 (from jax>=0.3.15->tensorflow==2.12.0)\n",
            "  Downloading jaxlib-0.4.31-cp311-cp311-manylinux2014_x86_64.whl.metadata (983 bytes)\n",
            "INFO: pip is still looking at multiple versions of jax to determine which version is compatible with other requirements. This could take a while.\n",
            "Collecting jax>=0.3.15 (from tensorflow==2.12.0)\n",
            "  Downloading jax-0.4.30-py3-none-any.whl.metadata (22 kB)\n",
            "Collecting jaxlib<=0.4.30,>=0.4.27 (from jax>=0.3.15->tensorflow==2.12.0)\n",
            "  Downloading jaxlib-0.4.30-cp311-cp311-manylinux2014_x86_64.whl.metadata (1.0 kB)\n",
            "Requirement already satisfied: scipy>=1.9 in /usr/local/lib/python3.11/dist-packages (from jax>=0.3.15->tensorflow==2.12.0) (1.13.1)\n",
            "Collecting bidict>=0.21.0 (from python-socketio<6.0.0,>=5.8.0->python-socketio[client]<6.0.0,>=5.8.0->edgeimpulse)\n",
            "  Downloading bidict-0.23.1-py3-none-any.whl.metadata (8.7 kB)\n",
            "Collecting python-engineio>=4.11.0 (from python-socketio<6.0.0,>=5.8.0->python-socketio[client]<6.0.0,>=5.8.0->edgeimpulse)\n",
            "  Downloading python_engineio-4.11.2-py3-none-any.whl.metadata (2.2 kB)\n",
            "Requirement already satisfied: websocket-client>=0.54.0 in /usr/local/lib/python3.11/dist-packages (from python-socketio[client]<6.0.0,>=5.8.0->edgeimpulse) (1.8.0)\n",
            "Requirement already satisfied: charset-normalizer<4,>=2 in /usr/local/lib/python3.11/dist-packages (from requests<3.0.0,>=2.23.0->edgeimpulse) (3.4.1)\n",
            "Requirement already satisfied: idna<4,>=2.5 in /usr/local/lib/python3.11/dist-packages (from requests<3.0.0,>=2.23.0->edgeimpulse) (3.10)\n",
            "Requirement already satisfied: certifi>=2017.4.17 in /usr/local/lib/python3.11/dist-packages (from requests<3.0.0,>=2.23.0->edgeimpulse) (2024.12.14)\n",
            "Requirement already satisfied: google-auth<3,>=1.6.3 in /usr/local/lib/python3.11/dist-packages (from tensorboard<2.13,>=2.12->tensorflow==2.12.0) (2.27.0)\n",
            "Collecting google-auth-oauthlib<1.1,>=0.5 (from tensorboard<2.13,>=2.12->tensorflow==2.12.0)\n",
            "  Downloading google_auth_oauthlib-1.0.0-py2.py3-none-any.whl.metadata (2.7 kB)\n",
            "Requirement already satisfied: markdown>=2.6.8 in /usr/local/lib/python3.11/dist-packages (from tensorboard<2.13,>=2.12->tensorflow==2.12.0) (3.7)\n",
            "Requirement already satisfied: tensorboard-data-server<0.8.0,>=0.7.0 in /usr/local/lib/python3.11/dist-packages (from tensorboard<2.13,>=2.12->tensorflow==2.12.0) (0.7.2)\n",
            "Requirement already satisfied: werkzeug>=1.0.1 in /usr/local/lib/python3.11/dist-packages (from tensorboard<2.13,>=2.12->tensorflow==2.12.0) (3.1.3)\n",
            "Requirement already satisfied: cachetools<6.0,>=2.0.0 in /usr/local/lib/python3.11/dist-packages (from google-auth<3,>=1.6.3->tensorboard<2.13,>=2.12->tensorflow==2.12.0) (5.5.0)\n",
            "Requirement already satisfied: pyasn1-modules>=0.2.1 in /usr/local/lib/python3.11/dist-packages (from google-auth<3,>=1.6.3->tensorboard<2.13,>=2.12->tensorflow==2.12.0) (0.4.1)\n",
            "Requirement already satisfied: rsa<5,>=3.1.4 in /usr/local/lib/python3.11/dist-packages (from google-auth<3,>=1.6.3->tensorboard<2.13,>=2.12->tensorflow==2.12.0) (4.9)\n",
            "Requirement already satisfied: requests-oauthlib>=0.7.0 in /usr/local/lib/python3.11/dist-packages (from google-auth-oauthlib<1.1,>=0.5->tensorboard<2.13,>=2.12->tensorflow==2.12.0) (1.3.1)\n",
            "Collecting simple-websocket>=0.10.0 (from python-engineio>=4.11.0->python-socketio<6.0.0,>=5.8.0->python-socketio[client]<6.0.0,>=5.8.0->edgeimpulse)\n",
            "  Downloading simple_websocket-1.1.0-py3-none-any.whl.metadata (1.5 kB)\n",
            "Requirement already satisfied: MarkupSafe>=2.1.1 in /usr/local/lib/python3.11/dist-packages (from werkzeug>=1.0.1->tensorboard<2.13,>=2.12->tensorflow==2.12.0) (3.0.2)\n",
            "Requirement already satisfied: pyasn1<0.7.0,>=0.4.6 in /usr/local/lib/python3.11/dist-packages (from pyasn1-modules>=0.2.1->google-auth<3,>=1.6.3->tensorboard<2.13,>=2.12->tensorflow==2.12.0) (0.6.1)\n",
            "Requirement already satisfied: oauthlib>=3.0.0 in /usr/local/lib/python3.11/dist-packages (from requests-oauthlib>=0.7.0->google-auth-oauthlib<1.1,>=0.5->tensorboard<2.13,>=2.12->tensorflow==2.12.0) (3.2.2)\n",
            "Collecting wsproto (from simple-websocket>=0.10.0->python-engineio>=4.11.0->python-socketio<6.0.0,>=5.8.0->python-socketio[client]<6.0.0,>=5.8.0->edgeimpulse)\n",
            "  Downloading wsproto-1.2.0-py3-none-any.whl.metadata (5.6 kB)\n",
            "Requirement already satisfied: h11<1,>=0.9.0 in /usr/local/lib/python3.11/dist-packages (from wsproto->simple-websocket>=0.10.0->python-engineio>=4.11.0->python-socketio<6.0.0,>=5.8.0->python-socketio[client]<6.0.0,>=5.8.0->edgeimpulse) (0.14.0)\n",
            "Downloading tensorflow-2.12.0-cp311-cp311-manylinux_2_17_x86_64.manylinux2014_x86_64.whl (586.0 MB)\n",
            "\u001b[2K   \u001b[90m━━━━━━━━━━━━━━━━━━━━━━━━━━━━━━━━━━━━━━━━\u001b[0m \u001b[32m586.0/586.0 MB\u001b[0m \u001b[31m2.1 MB/s\u001b[0m eta \u001b[36m0:00:00\u001b[0m\n",
            "\u001b[?25hDownloading edgeimpulse-1.0.18-py3-none-any.whl (68 kB)\n",
            "\u001b[2K   \u001b[90m━━━━━━━━━━━━━━━━━━━━━━━━━━━━━━━━━━━━━━━━\u001b[0m \u001b[32m68.8/68.8 kB\u001b[0m \u001b[31m6.0 MB/s\u001b[0m eta \u001b[36m0:00:00\u001b[0m\n",
            "\u001b[?25hDownloading edgeimpulse_api-1.66.17-py3-none-any.whl (1.4 MB)\n",
            "\u001b[2K   \u001b[90m━━━━━━━━━━━━━━━━━━━━━━━━━━━━━━━━━━━━━━━━\u001b[0m \u001b[32m1.4/1.4 MB\u001b[0m \u001b[31m63.4 MB/s\u001b[0m eta \u001b[36m0:00:00\u001b[0m\n",
            "\u001b[?25hDownloading gast-0.4.0-py3-none-any.whl (9.8 kB)\n",
            "Downloading jax-0.4.30-py3-none-any.whl (2.0 MB)\n",
            "\u001b[2K   \u001b[90m━━━━━━━━━━━━━━━━━━━━━━━━━━━━━━━━━━━━━━━━\u001b[0m \u001b[32m2.0/2.0 MB\u001b[0m \u001b[31m57.6 MB/s\u001b[0m eta \u001b[36m0:00:00\u001b[0m\n",
            "\u001b[?25hDownloading keras-2.12.0-py2.py3-none-any.whl (1.7 MB)\n",
            "\u001b[2K   \u001b[90m━━━━━━━━━━━━━━━━━━━━━━━━━━━━━━━━━━━━━━━━\u001b[0m \u001b[32m1.7/1.7 MB\u001b[0m \u001b[31m59.5 MB/s\u001b[0m eta \u001b[36m0:00:00\u001b[0m\n",
            "\u001b[?25hDownloading numpy-1.23.5-cp311-cp311-manylinux_2_17_x86_64.manylinux2014_x86_64.whl (17.1 MB)\n",
            "\u001b[2K   \u001b[90m━━━━━━━━━━━━━━━━━━━━━━━━━━━━━━━━━━━━━━━━\u001b[0m \u001b[32m17.1/17.1 MB\u001b[0m \u001b[31m47.1 MB/s\u001b[0m eta \u001b[36m0:00:00\u001b[0m\n",
            "\u001b[?25hDownloading python_socketio-5.12.1-py3-none-any.whl (76 kB)\n",
            "\u001b[2K   \u001b[90m━━━━━━━━━━━━━━━━━━━━━━━━━━━━━━━━━━━━━━━━\u001b[0m \u001b[32m76.9/76.9 kB\u001b[0m \u001b[31m5.1 MB/s\u001b[0m eta \u001b[36m0:00:00\u001b[0m\n",
            "\u001b[?25hDownloading tensorboard-2.12.3-py3-none-any.whl (5.6 MB)\n",
            "\u001b[2K   \u001b[90m━━━━━━━━━━━━━━━━━━━━━━━━━━━━━━━━━━━━━━━━\u001b[0m \u001b[32m5.6/5.6 MB\u001b[0m \u001b[31m57.9 MB/s\u001b[0m eta \u001b[36m0:00:00\u001b[0m\n",
            "\u001b[?25hDownloading tensorflow_estimator-2.12.0-py2.py3-none-any.whl (440 kB)\n",
            "\u001b[2K   \u001b[90m━━━━━━━━━━━━━━━━━━━━━━━━━━━━━━━━━━━━━━━━\u001b[0m \u001b[32m440.7/440.7 kB\u001b[0m \u001b[31m21.4 MB/s\u001b[0m eta \u001b[36m0:00:00\u001b[0m\n",
            "\u001b[?25hDownloading wrapt-1.14.1-cp311-cp311-manylinux_2_5_x86_64.manylinux1_x86_64.manylinux_2_17_x86_64.manylinux2014_x86_64.whl (78 kB)\n",
            "\u001b[2K   \u001b[90m━━━━━━━━━━━━━━━━━━━━━━━━━━━━━━━━━━━━━━━━\u001b[0m \u001b[32m78.4/78.4 kB\u001b[0m \u001b[31m6.2 MB/s\u001b[0m eta \u001b[36m0:00:00\u001b[0m\n",
            "\u001b[?25hDownloading aenum-3.1.15-py3-none-any.whl (137 kB)\n",
            "\u001b[2K   \u001b[90m━━━━━━━━━━━━━━━━━━━━━━━━━━━━━━━━━━━━━━━━\u001b[0m \u001b[32m137.6/137.6 kB\u001b[0m \u001b[31m9.1 MB/s\u001b[0m eta \u001b[36m0:00:00\u001b[0m\n",
            "\u001b[?25hDownloading bidict-0.23.1-py3-none-any.whl (32 kB)\n",
            "Downloading google_auth_oauthlib-1.0.0-py2.py3-none-any.whl (18 kB)\n",
            "Downloading jaxlib-0.4.30-cp311-cp311-manylinux2014_x86_64.whl (79.6 MB)\n",
            "\u001b[2K   \u001b[90m━━━━━━━━━━━━━━━━━━━━━━━━━━━━━━━━━━━━━━━━\u001b[0m \u001b[32m79.6/79.6 MB\u001b[0m \u001b[31m9.1 MB/s\u001b[0m eta \u001b[36m0:00:00\u001b[0m\n",
            "\u001b[?25hDownloading pydantic-1.10.21-cp311-cp311-manylinux_2_17_x86_64.manylinux2014_x86_64.whl (3.1 MB)\n",
            "\u001b[2K   \u001b[90m━━━━━━━━━━━━━━━━━━━━━━━━━━━━━━━━━━━━━━━━\u001b[0m \u001b[32m3.1/3.1 MB\u001b[0m \u001b[31m51.6 MB/s\u001b[0m eta \u001b[36m0:00:00\u001b[0m\n",
            "\u001b[?25hDownloading python_engineio-4.11.2-py3-none-any.whl (59 kB)\n",
            "\u001b[2K   \u001b[90m━━━━━━━━━━━━━━━━━━━━━━━━━━━━━━━━━━━━━━━━\u001b[0m \u001b[32m59.2/59.2 kB\u001b[0m \u001b[31m3.9 MB/s\u001b[0m eta \u001b[36m0:00:00\u001b[0m\n",
            "\u001b[?25hDownloading urllib3-1.26.20-py2.py3-none-any.whl (144 kB)\n",
            "\u001b[2K   \u001b[90m━━━━━━━━━━━━━━━━━━━━━━━━━━━━━━━━━━━━━━━━\u001b[0m \u001b[32m144.2/144.2 kB\u001b[0m \u001b[31m9.5 MB/s\u001b[0m eta \u001b[36m0:00:00\u001b[0m\n",
            "\u001b[?25hDownloading simple_websocket-1.1.0-py3-none-any.whl (13 kB)\n",
            "Downloading wsproto-1.2.0-py3-none-any.whl (24 kB)\n",
            "Installing collected packages: aenum, wsproto, wrapt, urllib3, tensorflow-estimator, pydantic, numpy, keras, gast, bidict, simple-websocket, edgeimpulse-api, python-engineio, jaxlib, python-socketio, jax, google-auth-oauthlib, tensorboard, tensorflow, edgeimpulse\n",
            "  Attempting uninstall: wrapt\n",
            "    Found existing installation: wrapt 1.17.0\n",
            "    Uninstalling wrapt-1.17.0:\n",
            "      Successfully uninstalled wrapt-1.17.0\n",
            "  Attempting uninstall: urllib3\n",
            "    Found existing installation: urllib3 2.3.0\n",
            "    Uninstalling urllib3-2.3.0:\n",
            "      Successfully uninstalled urllib3-2.3.0\n",
            "  Attempting uninstall: pydantic\n",
            "    Found existing installation: pydantic 2.10.5\n",
            "    Uninstalling pydantic-2.10.5:\n",
            "      Successfully uninstalled pydantic-2.10.5\n",
            "  Attempting uninstall: numpy\n",
            "    Found existing installation: numpy 1.26.4\n",
            "    Uninstalling numpy-1.26.4:\n",
            "      Successfully uninstalled numpy-1.26.4\n",
            "  Attempting uninstall: keras\n",
            "    Found existing installation: keras 3.5.0\n",
            "    Uninstalling keras-3.5.0:\n",
            "      Successfully uninstalled keras-3.5.0\n",
            "  Attempting uninstall: gast\n",
            "    Found existing installation: gast 0.6.0\n",
            "    Uninstalling gast-0.6.0:\n",
            "      Successfully uninstalled gast-0.6.0\n",
            "  Attempting uninstall: jaxlib\n",
            "    Found existing installation: jaxlib 0.4.33\n",
            "    Uninstalling jaxlib-0.4.33:\n",
            "      Successfully uninstalled jaxlib-0.4.33\n",
            "  Attempting uninstall: jax\n",
            "    Found existing installation: jax 0.4.33\n",
            "    Uninstalling jax-0.4.33:\n",
            "      Successfully uninstalled jax-0.4.33\n",
            "  Attempting uninstall: google-auth-oauthlib\n",
            "    Found existing installation: google-auth-oauthlib 1.2.1\n",
            "    Uninstalling google-auth-oauthlib-1.2.1:\n",
            "      Successfully uninstalled google-auth-oauthlib-1.2.1\n",
            "  Attempting uninstall: tensorboard\n",
            "    Found existing installation: tensorboard 2.17.1\n",
            "    Uninstalling tensorboard-2.17.1:\n",
            "      Successfully uninstalled tensorboard-2.17.1\n",
            "  Attempting uninstall: tensorflow\n",
            "    Found existing installation: tensorflow 2.17.1\n",
            "    Uninstalling tensorflow-2.17.1:\n",
            "      Successfully uninstalled tensorflow-2.17.1\n",
            "\u001b[31mERROR: pip's dependency resolver does not currently take into account all the packages that are installed. This behaviour is the source of the following dependency conflicts.\n",
            "albucore 0.0.19 requires numpy>=1.24.4, but you have numpy 1.23.5 which is incompatible.\n",
            "bigframes 1.31.0 requires numpy>=1.24.0, but you have numpy 1.23.5 which is incompatible.\n",
            "langchain-core 0.3.29 requires pydantic<3.0.0,>=2.5.2; python_full_version < \"3.12.4\", but you have pydantic 1.10.21 which is incompatible.\n",
            "langchain 0.3.14 requires pydantic<3.0.0,>=2.7.4, but you have pydantic 1.10.21 which is incompatible.\n",
            "albumentations 1.4.20 requires numpy>=1.24.4, but you have numpy 1.23.5 which is incompatible.\n",
            "albumentations 1.4.20 requires pydantic>=2.7.0, but you have pydantic 1.10.21 which is incompatible.\n",
            "blosc2 3.0.0 requires numpy>=1.25.0, but you have numpy 1.23.5 which is incompatible.\n",
            "scikit-image 0.25.0 requires numpy>=1.24, but you have numpy 1.23.5 which is incompatible.\n",
            "wandb 0.19.2 requires pydantic<3,>=2.6, but you have pydantic 1.10.21 which is incompatible.\n",
            "pymc 5.19.1 requires numpy>=1.25.0, but you have numpy 1.23.5 which is incompatible.\n",
            "google-genai 0.3.0 requires pydantic<3.0.0dev,>=2.0.0, but you have pydantic 1.10.21 which is incompatible.\n",
            "tf-keras 2.17.0 requires tensorflow<2.18,>=2.17, but you have tensorflow 2.12.0 which is incompatible.\n",
            "chex 0.1.88 requires numpy>=1.24.1, but you have numpy 1.23.5 which is incompatible.\n",
            "xarray 2025.1.1 requires numpy>=1.24, but you have numpy 1.23.5 which is incompatible.\n",
            "imbalanced-learn 0.13.0 requires numpy<3,>=1.24.3, but you have numpy 1.23.5 which is incompatible.\u001b[0m\u001b[31m\n",
            "\u001b[0mSuccessfully installed aenum-3.1.15 bidict-0.23.1 edgeimpulse-1.0.18 edgeimpulse-api-1.66.17 gast-0.4.0 google-auth-oauthlib-1.0.0 jax-0.4.30 jaxlib-0.4.30 keras-2.12.0 numpy-1.23.5 pydantic-1.10.21 python-engineio-4.11.2 python-socketio-5.12.1 simple-websocket-1.1.0 tensorboard-2.12.3 tensorflow-2.12.0 tensorflow-estimator-2.12.0 urllib3-1.26.20 wrapt-1.14.1 wsproto-1.2.0\n"
          ]
        }
      ]
    },
    {
      "cell_type": "code",
      "source": [
        "!git clone https://github.com/bisariyon/CHSW-Trash_Identification.git"
      ],
      "metadata": {
        "id": "pCiv2qdLK_cx",
        "outputId": "8d10a2bd-c84e-4a65-82eb-3bf3a1d92e51",
        "colab": {
          "base_uri": "https://localhost:8080/"
        }
      },
      "id": "pCiv2qdLK_cx",
      "execution_count": null,
      "outputs": [
        {
          "output_type": "stream",
          "name": "stdout",
          "text": [
            "Cloning into 'CHSW-Trash_Identification'...\n",
            "remote: Enumerating objects: 2646, done.\u001b[K\n",
            "remote: Counting objects: 100% (1470/1470), done.\u001b[K\n",
            "remote: Compressing objects: 100% (845/845), done.\u001b[K\n",
            "remote: Total 2646 (delta 611), reused 1464 (delta 609), pack-reused 1176 (from 1)\u001b[K\n",
            "Receiving objects: 100% (2646/2646), 272.74 MiB | 35.61 MiB/s, done.\n",
            "Resolving deltas: 100% (619/619), done.\n",
            "Updating files: 100% (2503/2503), done.\n"
          ]
        }
      ]
    },
    {
      "cell_type": "code",
      "source": [
        "train_dataset_path = \"./CHSW-Trash_Identification/train_dataset\"\n",
        "test_dataset_path = \"./CHSW-Trash_Identification/test_dataset\""
      ],
      "metadata": {
        "id": "Hj8al4XGLDoc"
      },
      "id": "Hj8al4XGLDoc",
      "execution_count": null,
      "outputs": []
    },
    {
      "cell_type": "code",
      "source": [
        "from tensorflow import keras\n",
        "from tensorflow.keras.preprocessing.image import ImageDataGenerator\n",
        "import edgeimpulse as ei\n",
        "\n",
        "import os\n",
        "from PIL import Image"
      ],
      "metadata": {
        "id": "AnEPHRDULHh6"
      },
      "id": "AnEPHRDULHh6",
      "execution_count": null,
      "outputs": []
    },
    {
      "cell_type": "code",
      "source": [
        "\n",
        "# Function to verify images and remove corrupted files\n",
        "def verify_images(directory):\n",
        "    for root, _, files in os.walk(directory):\n",
        "        for file in files:\n",
        "            file_path = os.path.join(root, file)\n",
        "            try:\n",
        "                with Image.open(file_path) as img:\n",
        "                    img.verify()  # Verify if the image can be opened\n",
        "            except (IOError, SyntaxError) as e:\n",
        "                print(f\"Removing corrupted or unsupported file: {file_path}\")\n",
        "                os.remove(file_path)"
      ],
      "metadata": {
        "id": "de2ChbNrLHef"
      },
      "id": "de2ChbNrLHef",
      "execution_count": null,
      "outputs": []
    },
    {
      "cell_type": "code",
      "source": [
        "# Verify images in the dataset\n",
        "verify_images(train_dataset_path)\n",
        "verify_images(test_dataset_path)"
      ],
      "metadata": {
        "id": "rdIrJ5EpLHb1",
        "outputId": "900dc4c5-741e-417e-ec8b-c4a35c293d64",
        "colab": {
          "base_uri": "https://localhost:8080/"
        }
      },
      "id": "rdIrJ5EpLHb1",
      "execution_count": null,
      "outputs": [
        {
          "output_type": "stream",
          "name": "stdout",
          "text": [
            "Removing corrupted or unsupported file: ./CHSW-Trash_Identification/train_dataset/Paper/53.jpg\n",
            "Removing corrupted or unsupported file: ./CHSW-Trash_Identification/train_dataset/Paper/86.jpg\n"
          ]
        }
      ]
    },
    {
      "cell_type": "code",
      "source": [
        "# Set the Edge Impulse API key\n",
        "ei.API_KEY = \"ei_f560eb38285fc0e05360ea854f9cb1c6eddb7b76250ebd319462957951bb296a\"  # Replace with your Edge Impulse API key\n"
      ],
      "metadata": {
        "id": "qqKoBGydLHY8"
      },
      "id": "qqKoBGydLHY8",
      "execution_count": null,
      "outputs": []
    },
    {
      "cell_type": "code",
      "source": [
        "# Labels for the dataset\n",
        "labels = [\"Plastic\", \"Metal Can\", \"Paper\", \"Rotten Fruits\", \"E-waste\", \"Water Bottle\"]\n",
        "num_classes = len(labels)"
      ],
      "metadata": {
        "id": "f7joXUWnLHPw"
      },
      "id": "f7joXUWnLHPw",
      "execution_count": null,
      "outputs": []
    },
    {
      "cell_type": "code",
      "source": [
        "# Filename for the exported model\n",
        "deploy_filename = \"my_model_cpp.zip\""
      ],
      "metadata": {
        "id": "GBn9v8Y_LQz_"
      },
      "id": "GBn9v8Y_LQz_",
      "execution_count": null,
      "outputs": []
    },
    {
      "cell_type": "code",
      "source": [
        "# Data preprocessing with ImageDataGenerator\n",
        "datagen = ImageDataGenerator(\n",
        "    rescale=1.0 / 255.0,  # Normalize pixel values to [0, 1]\n",
        "    validation_split=0.2  # Split dataset into 80% training and 20% validation\n",
        ")"
      ],
      "metadata": {
        "id": "cFcQKCPWLU5Q"
      },
      "id": "cFcQKCPWLU5Q",
      "execution_count": null,
      "outputs": []
    },
    {
      "cell_type": "code",
      "source": [
        "# Load training and validation datasets\n",
        "image_size = (64, 64)  # Resize images to 64x64\n",
        "batch_size = 32\n",
        "\n",
        "train_generator = datagen.flow_from_directory(\n",
        "    train_dataset_path,\n",
        "    target_size=image_size,\n",
        "    batch_size=batch_size,\n",
        "    class_mode=\"categorical\",\n",
        "    subset=\"training\"\n",
        ")\n",
        "\n",
        "validation_generator = datagen.flow_from_directory(\n",
        "    train_dataset_path,\n",
        "    target_size=image_size,\n",
        "    batch_size=batch_size,\n",
        "    class_mode=\"categorical\",\n",
        "    subset=\"validation\"\n",
        ")"
      ],
      "metadata": {
        "id": "ET0-N4MuLUw-",
        "outputId": "fb580b25-1c88-4220-a102-bb53f19f3b1d",
        "colab": {
          "base_uri": "https://localhost:8080/"
        }
      },
      "id": "ET0-N4MuLUw-",
      "execution_count": null,
      "outputs": [
        {
          "output_type": "stream",
          "name": "stdout",
          "text": [
            "Found 743 images belonging to 6 classes.\n",
            "Found 184 images belonging to 6 classes.\n"
          ]
        }
      ]
    },
    {
      "cell_type": "code",
      "source": [
        "# Testing dataset (Assumes a separate test dataset directory is provided)\n",
        "test_datagen = ImageDataGenerator(rescale=1.0 / 255.0)  # Only rescaling for testing\n",
        "test_generator = test_datagen.flow_from_directory(\n",
        "    test_dataset_path,  # Path to the test dataset directory\n",
        "    target_size=image_size,\n",
        "    batch_size=batch_size,\n",
        "    class_mode=\"categorical\",\n",
        "    shuffle=False  # No shuffling to maintain consistent batch order\n",
        ")"
      ],
      "metadata": {
        "id": "QuI782MxLUnw",
        "outputId": "b535b67a-5a8f-45f5-be9d-eb246b4d09e5",
        "colab": {
          "base_uri": "https://localhost:8080/"
        }
      },
      "id": "QuI782MxLUnw",
      "execution_count": null,
      "outputs": [
        {
          "output_type": "stream",
          "name": "stdout",
          "text": [
            "Found 230 images belonging to 6 classes.\n"
          ]
        }
      ]
    },
    {
      "cell_type": "code",
      "source": [
        "# Define the input shape\n",
        "input_shape = (*image_size, 3)  # 3 channels for RGB"
      ],
      "metadata": {
        "id": "2qLx2rMPLc6b"
      },
      "id": "2qLx2rMPLc6b",
      "execution_count": null,
      "outputs": []
    },
    {
      "cell_type": "code",
      "source": [
        "# Build the model\n",
        "model = keras.Sequential([\n",
        "    keras.layers.Conv2D(32, (3, 3), activation=\"relu\", input_shape=input_shape),\n",
        "    keras.layers.MaxPooling2D((2, 2)),\n",
        "    keras.layers.Conv2D(64, (3, 3), activation=\"relu\"),\n",
        "    keras.layers.MaxPooling2D((2, 2)),\n",
        "    keras.layers.Flatten(),\n",
        "    keras.layers.Dense(128, activation=\"relu\"),\n",
        "    keras.layers.Dense(num_classes, activation=\"softmax\")\n",
        "])"
      ],
      "metadata": {
        "id": "_7JpSSsNLc26"
      },
      "id": "_7JpSSsNLc26",
      "execution_count": null,
      "outputs": []
    },
    {
      "cell_type": "code",
      "source": [
        "# Compile the model\n",
        "model.compile(optimizer=\"adam\",\n",
        "              loss=\"categorical_crossentropy\",\n",
        "              metrics=[\"accuracy\"])"
      ],
      "metadata": {
        "id": "u1PW2JWZLcvM"
      },
      "id": "u1PW2JWZLcvM",
      "execution_count": null,
      "outputs": []
    },
    {
      "cell_type": "code",
      "source": [
        "# Train the model\n",
        "model.fit(\n",
        "    train_generator,\n",
        "    validation_data=validation_generator,\n",
        "    epochs=10\n",
        ")"
      ],
      "metadata": {
        "id": "qdJbX0MLLh7R",
        "outputId": "6e5649c4-ac73-487b-83cb-9368d99005a8",
        "colab": {
          "base_uri": "https://localhost:8080/"
        }
      },
      "id": "qdJbX0MLLh7R",
      "execution_count": null,
      "outputs": [
        {
          "output_type": "stream",
          "name": "stdout",
          "text": [
            "Epoch 1/10\n",
            "10/24 [===========>..................] - ETA: 6s - loss: 1.8782 - accuracy: 0.1729"
          ]
        },
        {
          "output_type": "stream",
          "name": "stderr",
          "text": [
            "/usr/local/lib/python3.11/dist-packages/PIL/Image.py:1045: UserWarning: Palette images with Transparency expressed in bytes should be converted to RGBA images\n",
            "  warnings.warn(\n"
          ]
        },
        {
          "output_type": "stream",
          "name": "stdout",
          "text": [
            "24/24 [==============================] - 14s 527ms/step - loss: 1.6844 - accuracy: 0.3230 - val_loss: 1.4531 - val_accuracy: 0.5761\n",
            "Epoch 2/10\n",
            "24/24 [==============================] - 12s 510ms/step - loss: 1.0169 - accuracy: 0.6231 - val_loss: 0.7550 - val_accuracy: 0.7337\n",
            "Epoch 3/10\n",
            "24/24 [==============================] - 12s 488ms/step - loss: 0.6999 - accuracy: 0.7510 - val_loss: 0.6058 - val_accuracy: 0.8207\n",
            "Epoch 4/10\n",
            "24/24 [==============================] - 13s 520ms/step - loss: 0.5718 - accuracy: 0.8116 - val_loss: 0.5369 - val_accuracy: 0.8315\n",
            "Epoch 5/10\n",
            "24/24 [==============================] - 12s 501ms/step - loss: 0.4338 - accuracy: 0.8694 - val_loss: 0.6819 - val_accuracy: 0.7554\n",
            "Epoch 6/10\n",
            "24/24 [==============================] - 13s 522ms/step - loss: 0.3590 - accuracy: 0.8802 - val_loss: 0.6271 - val_accuracy: 0.8098\n",
            "Epoch 7/10\n",
            "24/24 [==============================] - 13s 528ms/step - loss: 0.2226 - accuracy: 0.9381 - val_loss: 0.5605 - val_accuracy: 0.8804\n",
            "Epoch 8/10\n",
            "24/24 [==============================] - 12s 520ms/step - loss: 0.1549 - accuracy: 0.9704 - val_loss: 0.6183 - val_accuracy: 0.8750\n",
            "Epoch 9/10\n",
            "24/24 [==============================] - 13s 502ms/step - loss: 0.1237 - accuracy: 0.9717 - val_loss: 0.6401 - val_accuracy: 0.8478\n",
            "Epoch 10/10\n",
            "24/24 [==============================] - 13s 530ms/step - loss: 0.0734 - accuracy: 0.9852 - val_loss: 0.6456 - val_accuracy: 0.8587\n"
          ]
        },
        {
          "output_type": "execute_result",
          "data": {
            "text/plain": [
              "<keras.callbacks.History at 0x798f50f8a950>"
            ]
          },
          "metadata": {},
          "execution_count": 16
        }
      ]
    },
    {
      "cell_type": "code",
      "source": [
        "# Evaluate the model on the validation set\n",
        "score = model.evaluate(validation_generator, verbose=0)\n",
        "print(f\"Validation loss: {score[0]}\")\n",
        "print(f\"Validation accuracy: {score[1]}\")\n"
      ],
      "metadata": {
        "id": "bXNihTTKLh3z",
        "outputId": "8e3c2b08-5195-4efe-c6c9-35ca69aad2c8",
        "colab": {
          "base_uri": "https://localhost:8080/"
        }
      },
      "id": "bXNihTTKLh3z",
      "execution_count": null,
      "outputs": [
        {
          "output_type": "stream",
          "name": "stdout",
          "text": [
            "Validation loss: 0.6455987691879272\n",
            "Validation accuracy: 0.8586956262588501\n"
          ]
        }
      ]
    },
    {
      "cell_type": "code",
      "source": [
        "# Evaluate model on test set\n",
        "score = model.evaluate(test_generator, verbose=0)\n",
        "print(f\"Test loss: {score[0]}\")\n",
        "print(f\"Test accuracy: {score[1]}\")"
      ],
      "metadata": {
        "id": "e4gv9fxiLlM5",
        "outputId": "e5cd8187-af31-407e-a49b-b4074cb6d686",
        "colab": {
          "base_uri": "https://localhost:8080/"
        }
      },
      "id": "e4gv9fxiLlM5",
      "execution_count": null,
      "outputs": [
        {
          "output_type": "stream",
          "name": "stdout",
          "text": [
            "Test loss: 1.089106798171997\n",
            "Test accuracy: 0.747826099395752\n"
          ]
        }
      ]
    },
    {
      "cell_type": "code",
      "source": [
        "# List the available profile target devices\n",
        "ei.model.list_profile_devices()"
      ],
      "metadata": {
        "collapsed": true,
        "id": "HH6seyUMOg9j",
        "outputId": "751aa0a7-0643-46f9-afa2-449ea90d7720",
        "colab": {
          "base_uri": "https://localhost:8080/"
        }
      },
      "id": "HH6seyUMOg9j",
      "execution_count": null,
      "outputs": [
        {
          "output_type": "execute_result",
          "data": {
            "text/plain": [
              "['alif-he',\n",
              " 'alif-hp',\n",
              " 'ambiq-apollo4',\n",
              " 'arduino-nano-33-ble',\n",
              " 'arduino-nicla-vision',\n",
              " 'arduino-nicla-vision-m4',\n",
              " 'portenta-h7',\n",
              " 'brainchip-akd1000',\n",
              " 'brickml',\n",
              " 'cortex-m4f-80mhz',\n",
              " 'cortex-m7-216mhz',\n",
              " 'nxp-imx93-npu',\n",
              " 'nxp-imx93-cpu',\n",
              " 'espressif-esp32',\n",
              " 'himax-we-i',\n",
              " 'himax-wiseeye2',\n",
              " 'himax-wiseeye2-ethos',\n",
              " 'infineon-cy8ckit-062s2',\n",
              " 'infineon-cy8ckit-062-ble',\n",
              " 'mbp-16-2020',\n",
              " 'memryx-mx3',\n",
              " 'microchip-sama7g54',\n",
              " 'nordic-nrf52840-dk',\n",
              " 'nordic-nrf5340-dk',\n",
              " 'nordic-nrf9151-dk',\n",
              " 'nordic-nrf9160-dk',\n",
              " 'nordic-nrf9161-dk',\n",
              " 'jetson-nano',\n",
              " 'jetson-orin-nx',\n",
              " 'jetson-orin-nano',\n",
              " 'openmv-h7p',\n",
              " 'particle-boron',\n",
              " 'particle-p2',\n",
              " 'raspberry-pi-4',\n",
              " 'raspberry-pi-5',\n",
              " 'raspberry-pi-rp2040',\n",
              " 'renesas-ck-ra6m5',\n",
              " 'renesas-ek-ra8d1',\n",
              " 'renesas-rzg2l',\n",
              " 'renesas-rzv2h-cpu',\n",
              " 'renesas-rzv2h',\n",
              " 'renesas-rzv2l-cpu',\n",
              " 'renesas-rzv2l',\n",
              " 'st-iot-discovery-kit',\n",
              " 'st-stm32n6',\n",
              " 'seeed-sense-cap',\n",
              " 'wio-terminal',\n",
              " 'seeed-vision-ai',\n",
              " 'silabs-xg24',\n",
              " 'silabs-thunderboard-sense-2',\n",
              " 'sony-spresense',\n",
              " 'synaptics-ka10000',\n",
              " 'ti-am62a',\n",
              " 'ti-am68a',\n",
              " 'ti-launchxl',\n",
              " 'ti-tda4vm',\n",
              " 'neox']"
            ]
          },
          "metadata": {},
          "execution_count": 19
        }
      ]
    },
    {
      "cell_type": "code",
      "source": [
        "# Profile your model for target hardware\n",
        "try:\n",
        "    profile = ei.model.profile(model=model, device=\"arduino-nano-33-ble\")\n",
        "    print(profile.summary())\n",
        "except Exception as e:\n",
        "    print(f\"Could not profile: {e}\")"
      ],
      "metadata": {
        "id": "fp_j5B7jLxHF",
        "outputId": "d59418a8-e766-4873-c9ac-6ba226151d01",
        "colab": {
          "base_uri": "https://localhost:8080/"
        }
      },
      "id": "fp_j5B7jLxHF",
      "execution_count": null,
      "outputs": [
        {
          "output_type": "stream",
          "name": "stderr",
          "text": [
            "WARNING:absl:Found untraced functions such as _jit_compiled_convolution_op, _jit_compiled_convolution_op, _update_step_xla while saving (showing 3 of 3). These functions will not be directly callable after loading.\n"
          ]
        },
        {
          "output_type": "stream",
          "name": "stdout",
          "text": [
            "Target results for float32:\n",
            "===========================\n",
            "{\n",
            "    \"device\": \"arduino-nano-33-ble\",\n",
            "    \"tfliteFileSizeBytes\": 6507112,\n",
            "    \"isSupportedOnMcu\": true,\n",
            "    \"memory\": {\n",
            "        \"tflite\": {\n",
            "            \"ram\": 742198,\n",
            "            \"rom\": 6554184,\n",
            "            \"arenaSize\": 741894\n",
            "        },\n",
            "        \"eon\": {\n",
            "            \"ram\": 616880,\n",
            "            \"rom\": 6526704,\n",
            "            \"arenaSize\": 615520\n",
            "        },\n",
            "        \"eonRamOptimized\": {\n",
            "            \"ram\": 259760,\n",
            "            \"rom\": 6536440,\n",
            "            \"arenaSize\": 257088\n",
            "        }\n",
            "    },\n",
            "    \"timePerInferenceMs\": 26861\n",
            "}\n",
            "\n",
            "\n",
            "Performance on device types:\n",
            "============================\n",
            "{\n",
            "    \"variant\": \"float32\",\n",
            "    \"lowEndMcu\": {\n",
            "        \"description\": \"Estimate for a Cortex-M0+ or similar, running at 40MHz\",\n",
            "        \"timePerInferenceMs\": 67275,\n",
            "        \"memory\": {\n",
            "            \"tflite\": {\n",
            "                \"ram\": 742044,\n",
            "                \"rom\": 6542408\n",
            "            },\n",
            "            \"eon\": {\n",
            "                \"ram\": 616784,\n",
            "                \"rom\": 6523456\n",
            "            },\n",
            "            \"eonRamOptimized\": {\n",
            "                \"ram\": 259760,\n",
            "                \"rom\": 6536440\n",
            "            }\n",
            "        },\n",
            "        \"supported\": true\n",
            "    },\n",
            "    \"highEndMcu\": {\n",
            "        \"description\": \"Estimate for a Cortex-M7 or other high-end MCU/DSP, running at 240MHz\",\n",
            "        \"timePerInferenceMs\": 866,\n",
            "        \"memory\": {\n",
            "            \"tflite\": {\n",
            "                \"ram\": 742198,\n",
            "                \"rom\": 6554184\n",
            "            },\n",
            "            \"eon\": {\n",
            "                \"ram\": 616880,\n",
            "                \"rom\": 6526704\n",
            "            },\n",
            "            \"eonRamOptimized\": {\n",
            "                \"ram\": 259760,\n",
            "                \"rom\": 6536440\n",
            "            }\n",
            "        },\n",
            "        \"supported\": true\n",
            "    },\n",
            "    \"highEndMcuPlusAccelerator\": {\n",
            "        \"description\": \"Most accelerators only accelerate quantized models.\",\n",
            "        \"timePerInferenceMs\": 866,\n",
            "        \"memory\": {\n",
            "            \"tflite\": {\n",
            "                \"ram\": 742198,\n",
            "                \"rom\": 6554184\n",
            "            },\n",
            "            \"eon\": {\n",
            "                \"ram\": 616880,\n",
            "                \"rom\": 6526704\n",
            "            },\n",
            "            \"eonRamOptimized\": {\n",
            "                \"ram\": 259760,\n",
            "                \"rom\": 6536440\n",
            "            }\n",
            "        },\n",
            "        \"supported\": true\n",
            "    },\n",
            "    \"mpu\": {\n",
            "        \"description\": \"Estimate for a Cortex-A72, x86 or other mid-range microprocessor running at 1.5GHz\",\n",
            "        \"timePerInferenceMs\": 32,\n",
            "        \"rom\": 6507112.0,\n",
            "        \"supported\": true\n",
            "    },\n",
            "    \"gpuOrMpuAccelerator\": {\n",
            "        \"description\": \"Estimate for a GPU or high-end neural network accelerator\",\n",
            "        \"timePerInferenceMs\": 6,\n",
            "        \"rom\": 6507112.0,\n",
            "        \"supported\": true\n",
            "    }\n",
            "}\n",
            "None\n"
          ]
        }
      ]
    },
    {
      "cell_type": "code",
      "source": [
        "# List available deployment targets\n",
        "ei.model.list_deployment_targets()"
      ],
      "metadata": {
        "id": "Nh2DL7rYLxDk",
        "outputId": "650735a4-93e5-48d6-b99d-4cec0d8e7d62",
        "colab": {
          "base_uri": "https://localhost:8080/"
        }
      },
      "id": "Nh2DL7rYLxDk",
      "execution_count": null,
      "outputs": [
        {
          "output_type": "execute_result",
          "data": {
            "text/plain": [
              "['syntiant-ndp101-lib',\n",
              " 'syntiant-ndp120-lib',\n",
              " 'syntiant-ndp120-lib-tdk-v14',\n",
              " 'syntiant-ndp120-lib-ndp-v1-15-0',\n",
              " 'syntiant-ndp101',\n",
              " 'syntiant-nicla-ndp120',\n",
              " 'syntiant-avnet-rasyn']"
            ]
          },
          "metadata": {},
          "execution_count": 21
        }
      ]
    },
    {
      "cell_type": "code",
      "source": [
        "# Set model information, such as your list of labels\n",
        "model_output_type = ei.model.output_type.Classification(labels=labels)\n"
      ],
      "metadata": {
        "id": "f-40MbZILxAr"
      },
      "id": "f-40MbZILxAr",
      "execution_count": null,
      "outputs": []
    },
    {
      "cell_type": "code",
      "source": [
        "# Set model input type\n",
        "model_input_type = ei.model.input_type.ImageInput()\n"
      ],
      "metadata": {
        "id": "1j3jpwivLw9z"
      },
      "id": "1j3jpwivLw9z",
      "execution_count": null,
      "outputs": []
    },
    {
      "cell_type": "code",
      "source": [
        "\n",
        "# Deploy the model as a C++ library\n",
        "deploy_bytes = None\n",
        "try:\n",
        "    deploy_bytes = ei.model.deploy(\n",
        "        model=model,\n",
        "        model_output_type=model_output_type,\n",
        "        model_input_type=model_input_type,\n",
        "        deploy_target=\"zip\"\n",
        "    )\n",
        "except Exception as e:\n",
        "    print(f\"Could not deploy: {e}\")"
      ],
      "metadata": {
        "id": "-h-WpXX0L2YD",
        "outputId": "acb5e77f-db8b-471a-9191-d1157611806c",
        "colab": {
          "base_uri": "https://localhost:8080/"
        }
      },
      "id": "-h-WpXX0L2YD",
      "execution_count": null,
      "outputs": [
        {
          "output_type": "stream",
          "name": "stderr",
          "text": [
            "WARNING:absl:Found untraced functions such as _jit_compiled_convolution_op, _jit_compiled_convolution_op, _update_step_xla while saving (showing 3 of 3). These functions will not be directly callable after loading.\n"
          ]
        }
      ]
    },
    {
      "cell_type": "code",
      "source": [
        "# Save the deployed model as a .zip file\n",
        "if deploy_bytes:\n",
        "    with open(deploy_filename, \"wb\") as f:\n",
        "        f.write(deploy_bytes.getvalue())\n",
        "    print(f\"Model deployed successfully! Saved as {deploy_filename}.\")"
      ],
      "metadata": {
        "id": "gd7CgO7qL2Qx",
        "outputId": "d85691db-842a-442a-d6e0-4898b35f657a",
        "colab": {
          "base_uri": "https://localhost:8080/"
        }
      },
      "id": "gd7CgO7qL2Qx",
      "execution_count": null,
      "outputs": [
        {
          "output_type": "stream",
          "name": "stdout",
          "text": [
            "Model deployed successfully! Saved as my_model_cpp.zip.\n"
          ]
        }
      ]
    }
  ],
  "metadata": {
    "kernelspec": {
      "display_name": "Python 3 (ipykernel)",
      "language": "python",
      "name": "python3"
    },
    "language_info": {
      "codemirror_mode": {
        "name": "ipython",
        "version": 3
      },
      "file_extension": ".py",
      "mimetype": "text/x-python",
      "name": "python",
      "nbconvert_exporter": "python",
      "pygments_lexer": "ipython3",
      "version": "3.8.16"
    },
    "colab": {
      "provenance": []
    }
  },
  "nbformat": 4,
  "nbformat_minor": 5
}